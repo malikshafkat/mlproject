{
 "cells": [
  {
   "cell_type": "markdown",
   "id": "e9676a86",
   "metadata": {},
   "source": [
    "# 1.1 Import Data and Required Packages"
   ]
  },
  {
   "cell_type": "code",
   "execution_count": 2,
   "id": "db37796c",
   "metadata": {},
   "outputs": [],
   "source": [
    "import numpy as np\n",
    "import pandas as pd\n",
    "import matplotlib.pyplot as plt \n",
    "import seaborn as sns"
   ]
  },
  {
   "cell_type": "markdown",
   "id": "f5689957",
   "metadata": {},
   "source": [
    "# Modelling imports"
   ]
  },
  {
   "cell_type": "code",
   "execution_count": 6,
   "id": "2f3e7a77",
   "metadata": {},
   "outputs": [],
   "source": [
    "from sklearn.metrics import mean_squared_error, r2_score, mean_absolute_error\n",
    "from sklearn.neighbors import KNeighborsRegressor\n",
    "from sklearn.tree import DecisionTreeRegressor\n",
    "from sklearn.ensemble import RandomForestRegressor, AdaBoostRegressor\n",
    "from sklearn.svm import SVR\n",
    "from sklearn.linear_model import LinearRegression, Ridge, Lasso\n",
    "from sklearn.model_selection import train_test_split, RandomizedSearchCV\n",
    "from catboost import CatBoostRegressor\n",
    "from xgboost import XGBRegressor\n",
    "from sklearn.preprocessing import OneHotEncoder, StandardScaler\n",
    "from sklearn.compose import ColumnTransformer\n",
    "import warnings\n",
    "warnings.filterwarnings('ignore')"
   ]
  },
  {
   "cell_type": "markdown",
   "id": "3be3f33e",
   "metadata": {},
   "source": [
    "# Load data"
   ]
  },
  {
   "cell_type": "code",
   "execution_count": 8,
   "id": "78ab627a",
   "metadata": {},
   "outputs": [
    {
     "data": {
      "text/html": [
       "<div>\n",
       "<style scoped>\n",
       "    .dataframe tbody tr th:only-of-type {\n",
       "        vertical-align: middle;\n",
       "    }\n",
       "\n",
       "    .dataframe tbody tr th {\n",
       "        vertical-align: top;\n",
       "    }\n",
       "\n",
       "    .dataframe thead th {\n",
       "        text-align: right;\n",
       "    }\n",
       "</style>\n",
       "<table border=\"1\" class=\"dataframe\">\n",
       "  <thead>\n",
       "    <tr style=\"text-align: right;\">\n",
       "      <th></th>\n",
       "      <th>gender</th>\n",
       "      <th>race/ethnicity</th>\n",
       "      <th>parental level of education</th>\n",
       "      <th>lunch</th>\n",
       "      <th>test preparation course</th>\n",
       "      <th>math score</th>\n",
       "      <th>reading score</th>\n",
       "      <th>writing score</th>\n",
       "    </tr>\n",
       "  </thead>\n",
       "  <tbody>\n",
       "    <tr>\n",
       "      <th>0</th>\n",
       "      <td>female</td>\n",
       "      <td>group B</td>\n",
       "      <td>bachelor's degree</td>\n",
       "      <td>standard</td>\n",
       "      <td>none</td>\n",
       "      <td>72</td>\n",
       "      <td>72</td>\n",
       "      <td>74</td>\n",
       "    </tr>\n",
       "    <tr>\n",
       "      <th>1</th>\n",
       "      <td>female</td>\n",
       "      <td>group C</td>\n",
       "      <td>some college</td>\n",
       "      <td>standard</td>\n",
       "      <td>completed</td>\n",
       "      <td>69</td>\n",
       "      <td>90</td>\n",
       "      <td>88</td>\n",
       "    </tr>\n",
       "    <tr>\n",
       "      <th>2</th>\n",
       "      <td>female</td>\n",
       "      <td>group B</td>\n",
       "      <td>master's degree</td>\n",
       "      <td>standard</td>\n",
       "      <td>none</td>\n",
       "      <td>90</td>\n",
       "      <td>95</td>\n",
       "      <td>93</td>\n",
       "    </tr>\n",
       "    <tr>\n",
       "      <th>3</th>\n",
       "      <td>male</td>\n",
       "      <td>group A</td>\n",
       "      <td>associate's degree</td>\n",
       "      <td>free/reduced</td>\n",
       "      <td>none</td>\n",
       "      <td>47</td>\n",
       "      <td>57</td>\n",
       "      <td>44</td>\n",
       "    </tr>\n",
       "    <tr>\n",
       "      <th>4</th>\n",
       "      <td>male</td>\n",
       "      <td>group C</td>\n",
       "      <td>some college</td>\n",
       "      <td>standard</td>\n",
       "      <td>none</td>\n",
       "      <td>76</td>\n",
       "      <td>78</td>\n",
       "      <td>75</td>\n",
       "    </tr>\n",
       "  </tbody>\n",
       "</table>\n",
       "</div>"
      ],
      "text/plain": [
       "   gender race/ethnicity parental level of education         lunch  \\\n",
       "0  female        group B           bachelor's degree      standard   \n",
       "1  female        group C                some college      standard   \n",
       "2  female        group B             master's degree      standard   \n",
       "3    male        group A          associate's degree  free/reduced   \n",
       "4    male        group C                some college      standard   \n",
       "\n",
       "  test preparation course  math score  reading score  writing score  \n",
       "0                    none          72             72             74  \n",
       "1               completed          69             90             88  \n",
       "2                    none          90             95             93  \n",
       "3                    none          47             57             44  \n",
       "4                    none          76             78             75  "
      ]
     },
     "execution_count": 8,
     "metadata": {},
     "output_type": "execute_result"
    }
   ],
   "source": [
    "df= pd.read_csv(\"data/StudentsPerformance.csv\")\n",
    "df.head()"
   ]
  },
  {
   "cell_type": "markdown",
   "id": "b155f0fe",
   "metadata": {},
   "source": [
    "# Prepare X and y\n"
   ]
  },
  {
   "cell_type": "code",
   "execution_count": 11,
   "id": "d52347c0",
   "metadata": {},
   "outputs": [],
   "source": [
    "X = df.drop(columns=['math_score'], axis=1)\n",
    "y = df['math_score']"
   ]
  },
  {
   "cell_type": "markdown",
   "id": "0a6eb4b2",
   "metadata": {},
   "source": [
    "# Print unique categories"
   ]
  },
  {
   "cell_type": "code",
   "execution_count": 13,
   "id": "20f0862d",
   "metadata": {},
   "outputs": [
    {
     "name": "stdout",
     "output_type": "stream",
     "text": [
      "Categories in 'gender': ['female' 'male']\n",
      "Categories in 'race/ethnicity': ['group B' 'group C' 'group A' 'group D' 'group E']\n",
      "Categories in 'parental_level_of_education': [\"bachelor's degree\" 'some college' \"master's degree\" \"associate's degree\"\n",
      " 'high school' 'some high school']\n",
      "Categories in 'lunch': ['standard' 'free/reduced']\n",
      "Categories in 'test_preparation_course': ['none' 'completed']\n"
     ]
    }
   ],
   "source": [
    "print(\"Categories in 'gender':\", df['gender'].unique())\n",
    "print(\"Categories in 'race/ethnicity':\", df['race/ethnicity'].unique())\n",
    "print(\"Categories in 'parental_level_of_education':\", df['parental_level_of_education'].unique())\n",
    "print(\"Categories in 'lunch':\", df['lunch'].unique())\n",
    "print(\"Categories in 'test_preparation_course':\", df['test_preparation_course'].unique())"
   ]
  },
  {
   "cell_type": "markdown",
   "id": "52850cef",
   "metadata": {},
   "source": [
    "# Column transformations"
   ]
  },
  {
   "cell_type": "code",
   "execution_count": 15,
   "id": "fc6fa041",
   "metadata": {},
   "outputs": [],
   "source": [
    "num_features = X.select_dtypes(exclude=\"object\").columns\n",
    "cat_features = X.select_dtypes(include=\"object\").columns\n",
    "\n",
    "numeric_transformer = StandardScaler()\n",
    "oh_transformer = OneHotEncoder()\n",
    "\n",
    "preprocessor = ColumnTransformer([\n",
    "    (\"OneHotEncoder\", oh_transformer, cat_features),\n",
    "    (\"StandardScaler\", numeric_transformer, num_features)\n",
    "])\n",
    "\n",
    "X = preprocessor.fit_transform(X)\n"
   ]
  },
  {
   "cell_type": "markdown",
   "id": "5aaaaf7c",
   "metadata": {},
   "source": [
    "# Train-test split"
   ]
  },
  {
   "cell_type": "code",
   "execution_count": 16,
   "id": "465215b7",
   "metadata": {},
   "outputs": [],
   "source": [
    "X_train, X_test, y_train, y_test = train_test_split(X, y, test_size=0.2, random_state=42)\n"
   ]
  },
  {
   "cell_type": "markdown",
   "id": "baf8d4bd",
   "metadata": {},
   "source": [
    "# Model evaluation function\n"
   ]
  },
  {
   "cell_type": "code",
   "execution_count": 17,
   "id": "debd1f66",
   "metadata": {},
   "outputs": [],
   "source": [
    "def evaluate_model(true, predicted):\n",
    "    mae = mean_absolute_error(true, predicted)\n",
    "    mse = mean_squared_error(true, predicted)\n",
    "    rmse = np.sqrt(mse)\n",
    "    r2 = r2_score(true, predicted)\n",
    "    return mae, rmse, r2"
   ]
  },
  {
   "cell_type": "markdown",
   "id": "b360c6ab",
   "metadata": {},
   "source": [
    "# Model training\n"
   ]
  },
  {
   "cell_type": "code",
   "execution_count": 19,
   "id": "e12996ed",
   "metadata": {},
   "outputs": [],
   "source": [
    "models = {\n",
    "    \"Linear Regression\": LinearRegression(),\n",
    "    \"Lasso\": Lasso(),\n",
    "    \"Ridge\": Ridge(),\n",
    "    \"K-Neighbors Regressor\": KNeighborsRegressor(),\n",
    "    \"Decision Tree\": DecisionTreeRegressor(),\n",
    "    \"Random Forest Regressor\": RandomForestRegressor(),\n",
    "    \"XGBRegressor\": XGBRegressor(),\n",
    "    \"CatBoosting Regressor\": CatBoostRegressor(verbose=False),\n",
    "    \"AdaBoost Regressor\": AdaBoostRegressor()\n",
    "}\n"
   ]
  },
  {
   "cell_type": "code",
   "execution_count": 20,
   "id": "94dd61a0",
   "metadata": {},
   "outputs": [],
   "source": [
    "model_list = []\n",
    "r2_list = []"
   ]
  },
  {
   "cell_type": "code",
   "execution_count": 21,
   "id": "d268e9ab",
   "metadata": {},
   "outputs": [
    {
     "name": "stdout",
     "output_type": "stream",
     "text": [
      "Linear Regression\n",
      "Model performance for Training set\n",
      "- RMSE: 5.3244\n",
      "- MAE: 4.2671\n",
      "- R2 Score: 0.8743\n",
      "Model performance for Test set\n",
      "- RMSE: 5.3960\n",
      "- MAE: 4.2158\n",
      "- R2 Score: 0.8803\n",
      "===================================\n",
      "Lasso\n",
      "Model performance for Training set\n",
      "- RMSE: 6.5938\n",
      "- MAE: 5.2063\n",
      "- R2 Score: 0.8071\n",
      "Model performance for Test set\n",
      "- RMSE: 6.5197\n",
      "- MAE: 5.1579\n",
      "- R2 Score: 0.8253\n",
      "===================================\n",
      "Ridge\n",
      "Model performance for Training set\n",
      "- RMSE: 5.3233\n",
      "- MAE: 4.2650\n",
      "- R2 Score: 0.8743\n",
      "Model performance for Test set\n",
      "- RMSE: 5.3904\n",
      "- MAE: 4.2111\n",
      "- R2 Score: 0.8806\n",
      "===================================\n",
      "K-Neighbors Regressor\n",
      "Model performance for Training set\n",
      "- RMSE: 5.7077\n",
      "- MAE: 4.5167\n",
      "- R2 Score: 0.8555\n",
      "Model performance for Test set\n",
      "- RMSE: 7.2530\n",
      "- MAE: 5.6210\n",
      "- R2 Score: 0.7838\n",
      "===================================\n",
      "Decision Tree\n",
      "Model performance for Training set\n",
      "- RMSE: 0.2795\n",
      "- MAE: 0.0187\n",
      "- R2 Score: 0.9997\n",
      "Model performance for Test set\n",
      "- RMSE: 8.3159\n",
      "- MAE: 6.5750\n",
      "- R2 Score: 0.7158\n",
      "===================================\n",
      "Random Forest Regressor\n",
      "Model performance for Training set\n",
      "- RMSE: 2.2657\n",
      "- MAE: 1.8135\n",
      "- R2 Score: 0.9772\n",
      "Model performance for Test set\n",
      "- RMSE: 6.0251\n",
      "- MAE: 4.6775\n",
      "- R2 Score: 0.8508\n",
      "===================================\n",
      "XGBRegressor\n",
      "Model performance for Training set\n",
      "- RMSE: 1.0073\n",
      "- MAE: 0.6875\n",
      "- R2 Score: 0.9955\n",
      "Model performance for Test set\n",
      "- RMSE: 6.4733\n",
      "- MAE: 5.0577\n",
      "- R2 Score: 0.8278\n",
      "===================================\n",
      "CatBoosting Regressor\n",
      "Model performance for Training set\n",
      "- RMSE: 3.0427\n",
      "- MAE: 2.4054\n",
      "- R2 Score: 0.9589\n",
      "Model performance for Test set\n",
      "- RMSE: 6.0086\n",
      "- MAE: 4.6125\n",
      "- R2 Score: 0.8516\n",
      "===================================\n",
      "AdaBoost Regressor\n",
      "Model performance for Training set\n",
      "- RMSE: 5.9147\n",
      "- MAE: 4.8394\n",
      "- R2 Score: 0.8448\n",
      "Model performance for Test set\n",
      "- RMSE: 6.1842\n",
      "- MAE: 4.8533\n",
      "- R2 Score: 0.8428\n",
      "===================================\n"
     ]
    }
   ],
   "source": [
    "for name, model in models.items():\n",
    "    model.fit(X_train, y_train)\n",
    "    y_train_pred = model.predict(X_train)\n",
    "    y_test_pred = model.predict(X_test)\n",
    "    \n",
    "    train_mae, train_rmse, train_r2 = evaluate_model(y_train, y_train_pred)\n",
    "    test_mae, test_rmse, test_r2 = evaluate_model(y_test, y_test_pred)\n",
    "\n",
    "    print(f\"{name}\")\n",
    "    print(\"Model performance for Training set\")\n",
    "    print(f\"- RMSE: {train_rmse:.4f}\")\n",
    "    print(f\"- MAE: {train_mae:.4f}\")\n",
    "    print(f\"- R2 Score: {train_r2:.4f}\")\n",
    "    print(\"Model performance for Test set\")\n",
    "    print(f\"- RMSE: {test_rmse:.4f}\")\n",
    "    print(f\"- MAE: {test_mae:.4f}\")\n",
    "    print(f\"- R2 Score: {test_r2:.4f}\")\n",
    "    print(\"=\"*35)\n",
    "\n",
    "    model_list.append(name)\n",
    "    r2_list.append(test_r2)"
   ]
  },
  {
   "cell_type": "markdown",
   "id": "62620fcf",
   "metadata": {},
   "source": [
    "# Final results"
   ]
  },
  {
   "cell_type": "code",
   "execution_count": 22,
   "id": "353b4e58",
   "metadata": {},
   "outputs": [
    {
     "name": "stdout",
     "output_type": "stream",
     "text": [
      "                Model Name  R2_Score\n",
      "2                    Ridge  0.880593\n",
      "0        Linear Regression  0.880345\n",
      "7    CatBoosting Regressor  0.851632\n",
      "5  Random Forest Regressor  0.850818\n",
      "8       AdaBoost Regressor  0.842835\n",
      "6             XGBRegressor  0.827797\n",
      "1                    Lasso  0.825320\n",
      "3    K-Neighbors Regressor  0.783813\n",
      "4            Decision Tree  0.715807\n"
     ]
    }
   ],
   "source": [
    "results = pd.DataFrame(list(zip(model_list, r2_list)), columns=['Model Name', 'R2_Score'])\n",
    "print(results.sort_values(by='R2_Score', ascending=False))\n"
   ]
  },
  {
   "cell_type": "markdown",
   "id": "e69d334b",
   "metadata": {},
   "source": [
    "# Final model\n",
    "\n"
   ]
  },
  {
   "cell_type": "code",
   "execution_count": 23,
   "id": "73ea4426",
   "metadata": {},
   "outputs": [
    {
     "name": "stdout",
     "output_type": "stream",
     "text": [
      "Accuracy of the model is 88.03\n"
     ]
    }
   ],
   "source": [
    "lin_model = LinearRegression()\n",
    "lin_model.fit(X_train, y_train)\n",
    "y_pred = lin_model.predict(X_test)\n",
    "print(\"Accuracy of the model is %.2f\" % (r2_score(y_test, y_pred) * 100))"
   ]
  },
  {
   "cell_type": "markdown",
   "id": "3a0c6ebc",
   "metadata": {},
   "source": [
    "# Plot prediction\n"
   ]
  },
  {
   "cell_type": "code",
   "execution_count": 25,
   "id": "7c939da2",
   "metadata": {},
   "outputs": [
    {
     "data": {
      "image/png": "[encoded data removed]",
      "text/plain": [
       "<Figure size 600x400 with 1 Axes>"
      ]
     },
     "metadata": {},
     "output_type": "display_data"
    }
   ],
   "source": [
    "plt.figure(figsize=(6,4))\n",
    "plt.scatter(y_test, y_pred)\n",
    "plt.xlabel(\"Actual\")\n",
    "plt.ylabel(\"Predicted\")\n",
    "sns.regplot(x=y_test, y=y_pred, ci=None, color='red')\n",
    "plt.title(\"Actual vs Predicted\")\n",
    "plt.show()"
   ]
  },
  {
   "cell_type": "markdown",
   "id": "e6f5a8f0",
   "metadata": {},
   "source": [
    "# Prediction differences\n"
   ]
  },
  {
   "cell_type": "code",
   "execution_count": 26,
   "id": "f19d6774",
   "metadata": {},
   "outputs": [
    {
     "data": {
      "text/html": [
       "<div>\n",
       "<style scoped>\n",
       "    .dataframe tbody tr th:only-of-type {\n",
       "        vertical-align: middle;\n",
       "    }\n",
       "\n",
       "    .dataframe tbody tr th {\n",
       "        vertical-align: top;\n",
       "    }\n",
       "\n",
       "    .dataframe thead th {\n",
       "        text-align: right;\n",
       "    }\n",
       "</style>\n",
       "<table border=\"1\" class=\"dataframe\">\n",
       "  <thead>\n",
       "    <tr style=\"text-align: right;\">\n",
       "      <th></th>\n",
       "      <th>Actual Value</th>\n",
       "      <th>Predicted Value</th>\n",
       "      <th>Difference</th>\n",
       "    </tr>\n",
       "  </thead>\n",
       "  <tbody>\n",
       "    <tr>\n",
       "      <th>521</th>\n",
       "      <td>91</td>\n",
       "      <td>76.507812</td>\n",
       "      <td>14.492188</td>\n",
       "    </tr>\n",
       "    <tr>\n",
       "      <th>737</th>\n",
       "      <td>53</td>\n",
       "      <td>58.953125</td>\n",
       "      <td>-5.953125</td>\n",
       "    </tr>\n",
       "    <tr>\n",
       "      <th>740</th>\n",
       "      <td>80</td>\n",
       "      <td>76.960938</td>\n",
       "      <td>3.039062</td>\n",
       "    </tr>\n",
       "    <tr>\n",
       "      <th>660</th>\n",
       "      <td>74</td>\n",
       "      <td>76.757812</td>\n",
       "      <td>-2.757812</td>\n",
       "    </tr>\n",
       "    <tr>\n",
       "      <th>411</th>\n",
       "      <td>84</td>\n",
       "      <td>87.539062</td>\n",
       "      <td>-3.539062</td>\n",
       "    </tr>\n",
       "  </tbody>\n",
       "</table>\n",
       "</div>"
      ],
      "text/plain": [
       "     Actual Value  Predicted Value  Difference\n",
       "521            91        76.507812   14.492188\n",
       "737            53        58.953125   -5.953125\n",
       "740            80        76.960938    3.039062\n",
       "660            74        76.757812   -2.757812\n",
       "411            84        87.539062   -3.539062"
      ]
     },
     "execution_count": 26,
     "metadata": {},
     "output_type": "execute_result"
    }
   ],
   "source": [
    "pred_df = pd.DataFrame({'Actual Value': y_test, 'Predicted Value': y_pred, 'Difference': y_test - y_pred})\n",
    "pred_df.head()"
   ]
  },
  {
   "cell_type": "code",
   "execution_count": null,
   "id": "237ca655",
   "metadata": {},
   "outputs": [],
   "source": []
  }
 ],
 "metadata": {
  "kernelspec": {
   "display_name": "Python 3",
   "language": "python",
   "name": "python3"
  },
  "language_info": {
   "codemirror_mode": {
    "name": "ipython",
    "version": 3
   },
   "file_extension": ".py",
   "mimetype": "text/x-python",
   "name": "python",
   "nbconvert_exporter": "python",
   "pygments_lexer": "ipython3",
   "version": "3.8.20"
  }
 },
 "nbformat": 4,
 "nbformat_minor": 5
}
